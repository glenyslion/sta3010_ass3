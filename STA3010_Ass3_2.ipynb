{
  "nbformat": 4,
  "nbformat_minor": 0,
  "metadata": {
    "colab": {
      "name": "STA3010_Ass3_2.ipynb",
      "provenance": [],
      "authorship_tag": "ABX9TyN3iKu/oFOBLu7He+e/1Yfe",
      "include_colab_link": true
    },
    "kernelspec": {
      "name": "python3",
      "display_name": "Python 3"
    }
  },
  "cells": [
    {
      "cell_type": "markdown",
      "metadata": {
        "id": "view-in-github",
        "colab_type": "text"
      },
      "source": [
        "<a href=\"https://colab.research.google.com/github/glenyslion/sta3010_ass3/blob/main/STA3010_Ass3_2.ipynb\" target=\"_parent\"><img src=\"https://colab.research.google.com/assets/colab-badge.svg\" alt=\"Open In Colab\"/></a>"
      ]
    },
    {
      "cell_type": "code",
      "metadata": {
        "colab": {
          "base_uri": "https://localhost:8080/"
        },
        "id": "mlOcnTZoPbaE",
        "outputId": "6ff4d67f-be71-405b-ea43-e4d064c3d169"
      },
      "source": [
        "import pandas as pd\r\n",
        "import statsmodels.api as sm"
      ],
      "execution_count": 1,
      "outputs": [
        {
          "output_type": "stream",
          "text": [
            "/usr/local/lib/python3.7/dist-packages/statsmodels/tools/_testing.py:19: FutureWarning: pandas.util.testing is deprecated. Use the functions in the public API at pandas.testing instead.\n",
            "  import pandas.util.testing as tm\n"
          ],
          "name": "stderr"
        }
      ]
    },
    {
      "cell_type": "code",
      "metadata": {
        "colab": {
          "base_uri": "https://localhost:8080/",
          "height": 202
        },
        "id": "w2AFPSX7PoRQ",
        "outputId": "92bd1e2b-fe35-477a-ab75-cfd336dbf08e"
      },
      "source": [
        "df = pd.read_excel(\"data-table-B-16.xls\")\r\n",
        "df.head()"
      ],
      "execution_count": 2,
      "outputs": [
        {
          "output_type": "execute_result",
          "data": {
            "text/html": [
              "<div>\n",
              "<style scoped>\n",
              "    .dataframe tbody tr th:only-of-type {\n",
              "        vertical-align: middle;\n",
              "    }\n",
              "\n",
              "    .dataframe tbody tr th {\n",
              "        vertical-align: top;\n",
              "    }\n",
              "\n",
              "    .dataframe thead th {\n",
              "        text-align: right;\n",
              "    }\n",
              "</style>\n",
              "<table border=\"1\" class=\"dataframe\">\n",
              "  <thead>\n",
              "    <tr style=\"text-align: right;\">\n",
              "      <th></th>\n",
              "      <th>Country</th>\n",
              "      <th>LifeExp</th>\n",
              "      <th>People-per-TV</th>\n",
              "      <th>People-per-Dr</th>\n",
              "      <th>LifeExpMale</th>\n",
              "      <th>LifeExpFemale</th>\n",
              "    </tr>\n",
              "  </thead>\n",
              "  <tbody>\n",
              "    <tr>\n",
              "      <th>0</th>\n",
              "      <td>Argentina</td>\n",
              "      <td>70.5</td>\n",
              "      <td>4.0</td>\n",
              "      <td>370</td>\n",
              "      <td>74</td>\n",
              "      <td>67</td>\n",
              "    </tr>\n",
              "    <tr>\n",
              "      <th>1</th>\n",
              "      <td>Bangladesh</td>\n",
              "      <td>53.5</td>\n",
              "      <td>315.0</td>\n",
              "      <td>6166</td>\n",
              "      <td>53</td>\n",
              "      <td>54</td>\n",
              "    </tr>\n",
              "    <tr>\n",
              "      <th>2</th>\n",
              "      <td>Brazil</td>\n",
              "      <td>65.0</td>\n",
              "      <td>4.0</td>\n",
              "      <td>684</td>\n",
              "      <td>68</td>\n",
              "      <td>62</td>\n",
              "    </tr>\n",
              "    <tr>\n",
              "      <th>3</th>\n",
              "      <td>Canada</td>\n",
              "      <td>76.5</td>\n",
              "      <td>1.7</td>\n",
              "      <td>449</td>\n",
              "      <td>80</td>\n",
              "      <td>73</td>\n",
              "    </tr>\n",
              "    <tr>\n",
              "      <th>4</th>\n",
              "      <td>China</td>\n",
              "      <td>70.0</td>\n",
              "      <td>8.0</td>\n",
              "      <td>643</td>\n",
              "      <td>72</td>\n",
              "      <td>68</td>\n",
              "    </tr>\n",
              "  </tbody>\n",
              "</table>\n",
              "</div>"
            ],
            "text/plain": [
              "      Country  LifeExp  ...  LifeExpMale  LifeExpFemale\n",
              "0   Argentina     70.5  ...           74             67\n",
              "1  Bangladesh     53.5  ...           53             54\n",
              "2      Brazil     65.0  ...           68             62\n",
              "3      Canada     76.5  ...           80             73\n",
              "4       China     70.0  ...           72             68\n",
              "\n",
              "[5 rows x 6 columns]"
            ]
          },
          "metadata": {
            "tags": []
          },
          "execution_count": 2
        }
      ]
    },
    {
      "cell_type": "code",
      "metadata": {
        "colab": {
          "base_uri": "https://localhost:8080/"
        },
        "id": "A74hMqiwRUty",
        "outputId": "390e1edb-d88e-485e-ba6b-8d32dfcbf25b"
      },
      "source": [
        "X = df[['People-per-TV','People-per-Dr']]\r\n",
        "y = df['LifeExp']\r\n",
        "X2 = sm.add_constant(X)\r\n",
        "est = sm.OLS(y, X2)\r\n",
        "est2 = est.fit()\r\n",
        "print(est2.summary())"
      ],
      "execution_count": 15,
      "outputs": [
        {
          "output_type": "stream",
          "text": [
            "                            OLS Regression Results                            \n",
            "==============================================================================\n",
            "Dep. Variable:                LifeExp   R-squared:                       0.435\n",
            "Model:                            OLS   Adj. R-squared:                  0.402\n",
            "Method:                 Least Squares   F-statistic:                     13.46\n",
            "Date:                Tue, 02 Mar 2021   Prob (F-statistic):           4.62e-05\n",
            "Time:                        14:14:53   Log-Likelihood:                -120.64\n",
            "No. Observations:                  38   AIC:                             247.3\n",
            "Df Residuals:                      35   BIC:                             252.2\n",
            "Df Model:                           2                                         \n",
            "Covariance Type:            nonrobust                                         \n",
            "=================================================================================\n",
            "                    coef    std err          t      P>|t|      [0.025      0.975]\n",
            "---------------------------------------------------------------------------------\n",
            "const            70.2363      1.093     64.287      0.000      68.018      72.454\n",
            "People-per-TV    -0.0226      0.010     -2.355      0.024      -0.042      -0.003\n",
            "People-per-Dr    -0.0004      0.000     -2.217      0.033      -0.001   -3.78e-05\n",
            "==============================================================================\n",
            "Omnibus:                        1.910   Durbin-Watson:                   2.043\n",
            "Prob(Omnibus):                  0.385   Jarque-Bera (JB):                1.353\n",
            "Skew:                          -0.224   Prob(JB):                        0.508\n",
            "Kurtosis:                       2.192   Cond. No.                     7.59e+03\n",
            "==============================================================================\n",
            "\n",
            "Warnings:\n",
            "[1] Standard Errors assume that the covariance matrix of the errors is correctly specified.\n",
            "[2] The condition number is large, 7.59e+03. This might indicate that there are\n",
            "strong multicollinearity or other numerical problems.\n"
          ],
          "name": "stdout"
        }
      ]
    },
    {
      "cell_type": "code",
      "metadata": {
        "colab": {
          "base_uri": "https://localhost:8080/"
        },
        "id": "362NiBB2TCBJ",
        "outputId": "337eb680-cbfa-4dfe-ff99-e9f1c5d39693"
      },
      "source": [
        "X = df[['People-per-TV','People-per-Dr']]\r\n",
        "y = df['LifeExpMale']\r\n",
        "X2 = sm.add_constant(X)\r\n",
        "est = sm.OLS(y, X2)\r\n",
        "est2 = est.fit()\r\n",
        "print(est2.summary())"
      ],
      "execution_count": 16,
      "outputs": [
        {
          "output_type": "stream",
          "text": [
            "                            OLS Regression Results                            \n",
            "==============================================================================\n",
            "Dep. Variable:            LifeExpMale   R-squared:                       0.417\n",
            "Model:                            OLS   Adj. R-squared:                  0.384\n",
            "Method:                 Least Squares   F-statistic:                     12.53\n",
            "Date:                Tue, 02 Mar 2021   Prob (F-statistic):           7.86e-05\n",
            "Time:                        14:16:47   Log-Likelihood:                -125.78\n",
            "No. Observations:                  38   AIC:                             257.6\n",
            "Df Residuals:                      35   BIC:                             262.5\n",
            "Df Model:                           2                                         \n",
            "Covariance Type:            nonrobust                                         \n",
            "=================================================================================\n",
            "                    coef    std err          t      P>|t|      [0.025      0.975]\n",
            "---------------------------------------------------------------------------------\n",
            "const            73.0919      1.251     58.447      0.000      70.553      75.631\n",
            "People-per-TV    -0.0257      0.011     -2.337      0.025      -0.048      -0.003\n",
            "People-per-Dr    -0.0005      0.000     -2.074      0.046      -0.001   -1.01e-05\n",
            "==============================================================================\n",
            "Omnibus:                        2.317   Durbin-Watson:                   2.071\n",
            "Prob(Omnibus):                  0.314   Jarque-Bera (JB):                1.829\n",
            "Skew:                          -0.380   Prob(JB):                        0.401\n",
            "Kurtosis:                       2.241   Cond. No.                     7.59e+03\n",
            "==============================================================================\n",
            "\n",
            "Warnings:\n",
            "[1] Standard Errors assume that the covariance matrix of the errors is correctly specified.\n",
            "[2] The condition number is large, 7.59e+03. This might indicate that there are\n",
            "strong multicollinearity or other numerical problems.\n"
          ],
          "name": "stdout"
        }
      ]
    },
    {
      "cell_type": "code",
      "metadata": {
        "colab": {
          "base_uri": "https://localhost:8080/"
        },
        "id": "RGbrfcheTSWY",
        "outputId": "0cd304fc-4439-4a90-f146-0edae43a2878"
      },
      "source": [
        "X = df[['People-per-TV','People-per-Dr']]\r\n",
        "y = df['LifeExpFemale']\r\n",
        "X2 = sm.add_constant(X)\r\n",
        "est = sm.OLS(y, X2)\r\n",
        "est2 = est.fit()\r\n",
        "print(est2.summary())"
      ],
      "execution_count": 17,
      "outputs": [
        {
          "output_type": "stream",
          "text": [
            "                            OLS Regression Results                            \n",
            "==============================================================================\n",
            "Dep. Variable:          LifeExpFemale   R-squared:                       0.446\n",
            "Model:                            OLS   Adj. R-squared:                  0.414\n",
            "Method:                 Least Squares   F-statistic:                     14.07\n",
            "Date:                Tue, 02 Mar 2021   Prob (F-statistic):           3.28e-05\n",
            "Time:                        14:17:40   Log-Likelihood:                -115.61\n",
            "No. Observations:                  38   AIC:                             237.2\n",
            "Df Residuals:                      35   BIC:                             242.1\n",
            "Df Model:                           2                                         \n",
            "Covariance Type:            nonrobust                                         \n",
            "=================================================================================\n",
            "                    coef    std err          t      P>|t|      [0.025      0.975]\n",
            "---------------------------------------------------------------------------------\n",
            "const            67.4298      0.957     70.461      0.000      65.487      69.373\n",
            "People-per-TV    -0.0199      0.008     -2.362      0.024      -0.037      -0.003\n",
            "People-per-Dr    -0.0004      0.000     -2.314      0.027      -0.001   -5.01e-05\n",
            "==============================================================================\n",
            "Omnibus:                        2.226   Durbin-Watson:                   2.005\n",
            "Prob(Omnibus):                  0.329   Jarque-Bera (JB):                1.282\n",
            "Skew:                          -0.074   Prob(JB):                        0.527\n",
            "Kurtosis:                       2.112   Cond. No.                     7.59e+03\n",
            "==============================================================================\n",
            "\n",
            "Warnings:\n",
            "[1] Standard Errors assume that the covariance matrix of the errors is correctly specified.\n",
            "[2] The condition number is large, 7.59e+03. This might indicate that there are\n",
            "strong multicollinearity or other numerical problems.\n"
          ],
          "name": "stdout"
        }
      ]
    }
  ]
}