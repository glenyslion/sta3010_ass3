{
  "nbformat": 4,
  "nbformat_minor": 0,
  "metadata": {
    "colab": {
      "name": "STA3010_Ass3_1.ipynb",
      "provenance": [],
      "authorship_tag": "ABX9TyNE8f9wfbQlgESbgH9xUiRp",
      "include_colab_link": true
    },
    "kernelspec": {
      "name": "python3",
      "display_name": "Python 3"
    }
  },
  "cells": [
    {
      "cell_type": "markdown",
      "metadata": {
        "id": "view-in-github",
        "colab_type": "text"
      },
      "source": [
        "<a href=\"https://colab.research.google.com/github/glenyslion/sta3010_ass3/blob/main/STA3010_Ass3_1.ipynb\" target=\"_parent\"><img src=\"https://colab.research.google.com/assets/colab-badge.svg\" alt=\"Open In Colab\"/></a>"
      ]
    },
    {
      "cell_type": "code",
      "metadata": {
        "colab": {
          "base_uri": "https://localhost:8080/"
        },
        "id": "CQWZnC9v9OiX",
        "outputId": "dfad016a-3d45-4e75-dbe9-8b4c767f0994"
      },
      "source": [
        "import pandas as pd\r\n",
        "import statsmodels.api as sm"
      ],
      "execution_count": 1,
      "outputs": [
        {
          "output_type": "stream",
          "text": [
            "/usr/local/lib/python3.7/dist-packages/statsmodels/tools/_testing.py:19: FutureWarning: pandas.util.testing is deprecated. Use the functions in the public API at pandas.testing instead.\n",
            "  import pandas.util.testing as tm\n"
          ],
          "name": "stderr"
        }
      ]
    },
    {
      "cell_type": "code",
      "metadata": {
        "colab": {
          "base_uri": "https://localhost:8080/",
          "height": 202
        },
        "id": "41E2U3Ua9vVO",
        "outputId": "4164e354-70d3-4c40-894c-e5878558fcdf"
      },
      "source": [
        "df = pd.read_excel(\"data-table-B7.XLS\")\r\n",
        "df.head()"
      ],
      "execution_count": 2,
      "outputs": [
        {
          "output_type": "execute_result",
          "data": {
            "text/html": [
              "<div>\n",
              "<style scoped>\n",
              "    .dataframe tbody tr th:only-of-type {\n",
              "        vertical-align: middle;\n",
              "    }\n",
              "\n",
              "    .dataframe tbody tr th {\n",
              "        vertical-align: top;\n",
              "    }\n",
              "\n",
              "    .dataframe thead th {\n",
              "        text-align: right;\n",
              "    }\n",
              "</style>\n",
              "<table border=\"1\" class=\"dataframe\">\n",
              "  <thead>\n",
              "    <tr style=\"text-align: right;\">\n",
              "      <th></th>\n",
              "      <th>x1</th>\n",
              "      <th>x2</th>\n",
              "      <th>x3</th>\n",
              "      <th>x4</th>\n",
              "      <th>x5</th>\n",
              "      <th>y</th>\n",
              "    </tr>\n",
              "  </thead>\n",
              "  <tbody>\n",
              "    <tr>\n",
              "      <th>0</th>\n",
              "      <td>415</td>\n",
              "      <td>25</td>\n",
              "      <td>5</td>\n",
              "      <td>40</td>\n",
              "      <td>1.28</td>\n",
              "      <td>63</td>\n",
              "    </tr>\n",
              "    <tr>\n",
              "      <th>1</th>\n",
              "      <td>550</td>\n",
              "      <td>25</td>\n",
              "      <td>5</td>\n",
              "      <td>40</td>\n",
              "      <td>4.05</td>\n",
              "      <td>21</td>\n",
              "    </tr>\n",
              "    <tr>\n",
              "      <th>2</th>\n",
              "      <td>415</td>\n",
              "      <td>95</td>\n",
              "      <td>5</td>\n",
              "      <td>40</td>\n",
              "      <td>4.05</td>\n",
              "      <td>36</td>\n",
              "    </tr>\n",
              "    <tr>\n",
              "      <th>3</th>\n",
              "      <td>550</td>\n",
              "      <td>95</td>\n",
              "      <td>5</td>\n",
              "      <td>40</td>\n",
              "      <td>1.28</td>\n",
              "      <td>99</td>\n",
              "    </tr>\n",
              "    <tr>\n",
              "      <th>4</th>\n",
              "      <td>415</td>\n",
              "      <td>25</td>\n",
              "      <td>15</td>\n",
              "      <td>40</td>\n",
              "      <td>4.05</td>\n",
              "      <td>24</td>\n",
              "    </tr>\n",
              "  </tbody>\n",
              "</table>\n",
              "</div>"
            ],
            "text/plain": [
              "    x1  x2  x3  x4    x5   y\n",
              "0  415  25   5  40  1.28  63\n",
              "1  550  25   5  40  4.05  21\n",
              "2  415  95   5  40  4.05  36\n",
              "3  550  95   5  40  1.28  99\n",
              "4  415  25  15  40  4.05  24"
            ]
          },
          "metadata": {
            "tags": []
          },
          "execution_count": 2
        }
      ]
    },
    {
      "cell_type": "code",
      "metadata": {
        "colab": {
          "base_uri": "https://localhost:8080/"
        },
        "id": "GemivXUIDuKg",
        "outputId": "f0e89438-9894-4c57-e8e1-5a9b3f85d062"
      },
      "source": [
        "X = df[['x1','x2','x3','x4','x5']]\r\n",
        "y = df['y']\r\n",
        "X2 = sm.add_constant(X)\r\n",
        "est = sm.OLS(y, X2)\r\n",
        "est2 = est.fit()\r\n",
        "print(est2.summary())"
      ],
      "execution_count": 3,
      "outputs": [
        {
          "output_type": "stream",
          "text": [
            "                            OLS Regression Results                            \n",
            "==============================================================================\n",
            "Dep. Variable:                      y   R-squared:                       0.937\n",
            "Model:                            OLS   Adj. R-squared:                  0.906\n",
            "Method:                 Least Squares   F-statistic:                     29.86\n",
            "Date:                Tue, 02 Mar 2021   Prob (F-statistic):           1.05e-05\n",
            "Time:                        14:38:09   Log-Likelihood:                -52.344\n",
            "No. Observations:                  16   AIC:                             116.7\n",
            "Df Residuals:                      10   BIC:                             121.3\n",
            "Df Model:                           5                                         \n",
            "Covariance Type:            nonrobust                                         \n",
            "==============================================================================\n",
            "                 coef    std err          t      P>|t|      [0.025      0.975]\n",
            "------------------------------------------------------------------------------\n",
            "const         52.0790     18.887      2.757      0.020       9.997      94.161\n",
            "x1             0.0556      0.030      1.860      0.093      -0.011       0.122\n",
            "x2             0.2821      0.058      4.897      0.001       0.154       0.411\n",
            "x3             0.1250      0.403      0.310      0.763      -0.774       1.024\n",
            "x4          6.439e-15      0.202   3.19e-14      1.000      -0.449       0.449\n",
            "x5           -16.0650      1.456    -11.035      0.000     -19.309     -12.821\n",
            "==============================================================================\n",
            "Omnibus:                        1.087   Durbin-Watson:                   1.761\n",
            "Prob(Omnibus):                  0.581   Jarque-Bera (JB):                0.964\n",
            "Skew:                          -0.479   Prob(JB):                        0.618\n",
            "Kurtosis:                       2.273   Cond. No.                     4.62e+03\n",
            "==============================================================================\n",
            "\n",
            "Warnings:\n",
            "[1] Standard Errors assume that the covariance matrix of the errors is correctly specified.\n",
            "[2] The condition number is large, 4.62e+03. This might indicate that there are\n",
            "strong multicollinearity or other numerical problems.\n"
          ],
          "name": "stdout"
        },
        {
          "output_type": "stream",
          "text": [
            "/usr/local/lib/python3.7/dist-packages/scipy/stats/stats.py:1535: UserWarning: kurtosistest only valid for n>=20 ... continuing anyway, n=16\n",
            "  \"anyway, n=%i\" % int(n))\n"
          ],
          "name": "stderr"
        }
      ]
    },
    {
      "cell_type": "code",
      "metadata": {
        "colab": {
          "base_uri": "https://localhost:8080/"
        },
        "id": "-IY7eZi_KZv1",
        "outputId": "3c438ee8-6f62-452d-d3a6-58a84a2871b5"
      },
      "source": [
        "X = df[['x2','x5']]\r\n",
        "y = df['y']\r\n",
        "X2 = sm.add_constant(X)\r\n",
        "est = sm.OLS(y, X2)\r\n",
        "est2 = est.fit()\r\n",
        "print(est2.summary())"
      ],
      "execution_count": 4,
      "outputs": [
        {
          "output_type": "stream",
          "text": [
            "                            OLS Regression Results                            \n",
            "==============================================================================\n",
            "Dep. Variable:                      y   R-squared:                       0.915\n",
            "Model:                            OLS   Adj. R-squared:                  0.902\n",
            "Method:                 Least Squares   F-statistic:                     69.89\n",
            "Date:                Tue, 02 Mar 2021   Prob (F-statistic):           1.11e-07\n",
            "Time:                        14:38:09   Log-Likelihood:                -54.778\n",
            "No. Observations:                  16   AIC:                             115.6\n",
            "Df Residuals:                      13   BIC:                             117.9\n",
            "Df Model:                           2                                         \n",
            "Covariance Type:            nonrobust                                         \n",
            "==============================================================================\n",
            "                 coef    std err          t      P>|t|      [0.025      0.975]\n",
            "------------------------------------------------------------------------------\n",
            "const         80.1346      5.691     14.080      0.000      67.839      92.430\n",
            "x2             0.2821      0.059      4.796      0.000       0.155       0.409\n",
            "x5           -16.0650      1.487    -10.807      0.000     -19.277     -12.853\n",
            "==============================================================================\n",
            "Omnibus:                        0.012   Durbin-Watson:                   2.190\n",
            "Prob(Omnibus):                  0.994   Jarque-Bera (JB):                0.138\n",
            "Skew:                           0.032   Prob(JB):                        0.933\n",
            "Kurtosis:                       2.549   Cond. No.                         195.\n",
            "==============================================================================\n",
            "\n",
            "Warnings:\n",
            "[1] Standard Errors assume that the covariance matrix of the errors is correctly specified.\n"
          ],
          "name": "stdout"
        },
        {
          "output_type": "stream",
          "text": [
            "/usr/local/lib/python3.7/dist-packages/scipy/stats/stats.py:1535: UserWarning: kurtosistest only valid for n>=20 ... continuing anyway, n=16\n",
            "  \"anyway, n=%i\" % int(n))\n"
          ],
          "name": "stderr"
        }
      ]
    }
  ]
}